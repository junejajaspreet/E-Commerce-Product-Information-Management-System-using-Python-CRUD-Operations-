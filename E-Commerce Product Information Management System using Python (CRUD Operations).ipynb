{
  "nbformat": 4,
  "nbformat_minor": 0,
  "metadata": {
    "colab": {
      "provenance": []
    },
    "kernelspec": {
      "name": "python3",
      "display_name": "Python 3"
    },
    "language_info": {
      "name": "python"
    }
  },
  "cells": [
    {
      "cell_type": "code",
      "execution_count": null,
      "metadata": {
        "id": "h4TDj9jMD0Z1"
      },
      "outputs": [],
      "source": [
        "# Importing necessary packages\n",
        "\n",
        "# For handling raw data files\n",
        "import os\n",
        "\n",
        "# For working with JSON files\n",
        "import json\n",
        "\n",
        "# For working with CSV files\n",
        "import csv\n",
        "import pandas as pd\n",
        "\n",
        "# For pretty-printing Python data structures in organized manner\n",
        "import pprint"
      ]
    },
    {
      "cell_type": "code",
      "source": [
        "#Upload the zip file to Google Colab runtime\n",
        "from google.colab import files\n",
        "uploaded = files.upload()"
      ],
      "metadata": {
        "id": "TL75jpnq0NIP"
      },
      "execution_count": null,
      "outputs": []
    },
    {
      "cell_type": "code",
      "source": [
        "#Unzip your files and store them in Google colab runtime\n",
        "!unzip /content/mainfolder.zip"
      ],
      "metadata": {
        "id": "KE5uWBn-xiGU",
        "colab": {
          "base_uri": "https://localhost:8080/"
        },
        "outputId": "0bbde51b-d2e3-45d6-f715-a965597a3a22"
      },
      "execution_count": null,
      "outputs": [
        {
          "output_type": "stream",
          "name": "stdout",
          "text": [
            "Archive:  /content/mainfolder.zip\n",
            "   creating: mainfolder/product_descriptions/\n",
            "  inflating: mainfolder/product_descriptions/AISJDKFJW93NJ.txt  \n",
            "  inflating: mainfolder/product_descriptions/DJKFIEI432FIE.txt  \n",
            "  inflating: mainfolder/product_descriptions/GGOENEBJ079499.txt  \n",
            "  inflating: mainfolder/product_descriptions/HJSKNWK429DJE.txt  \n",
            "  inflating: mainfolder/product_descriptions/JFKL3940NFKLJ.txt  \n",
            "  inflating: mainfolder/product_descriptions/LKDFJ49LSDJKL.txt  \n",
            "  inflating: mainfolder/product_descriptions/MWKDI3JFK39SL.txt  \n",
            "  inflating: mainfolder/product_descriptions/NEKFJOWE9FDIW.txt  \n",
            "  inflating: mainfolder/product_descriptions/OWEJL398FWJLK.txt  \n",
            "  inflating: mainfolder/product_descriptions/XPLFJW2490XJN.txt  \n",
            "   creating: mainfolder/product_details/\n",
            "  inflating: mainfolder/product_details/AISJDKFJW93NJ.json  \n",
            "  inflating: mainfolder/product_details/DJKFIEI432FIE.json  \n",
            "  inflating: mainfolder/product_details/GGOENEBJ079499.json  \n",
            "  inflating: mainfolder/product_details/HJSKNWK429DJE.json  \n",
            "  inflating: mainfolder/product_details/JFKL3940NFKLJ.json  \n",
            "  inflating: mainfolder/product_details/LKDFJ49LSDJKL.json  \n",
            "  inflating: mainfolder/product_details/MWKDI3JFK39SL.json  \n",
            "  inflating: mainfolder/product_details/NEKFJOWE9FDIW.json  \n",
            "  inflating: mainfolder/product_details/OWEJL398FWJLK.json  \n",
            "  inflating: mainfolder/product_details/XPLFJW2490XJN.json  \n",
            "  inflating: mainfolder/sales_data.csv  \n"
          ]
        }
      ]
    },
    {
      "cell_type": "code",
      "source": [
        "def load_data(main_folder):\n",
        "    \"\"\"\n",
        "    Load product details, sales data, and product descriptions from files within the specified zip file.\n",
        "\n",
        "    Args:\n",
        "        main_folder (str): The path to the zip file containing the dataset.\n",
        "\n",
        "    Returns:\n",
        "        tuple: A tuple containing three dictionaries:\n",
        "            - product_details (dict): A dictionary of dictionaries where keys are product SKUs (extracted from the filenames of the JSON files)\n",
        "              and values are product details loaded from the JSON files.\n",
        "            - sales_data (dict): A dictionary where keys are product SKUs (from the CSV file) and values are lists\n",
        "              of quantities corresponding to sales data.\n",
        "            - product_descriptions (dict): A dictionary where keys are product SKUs (extracted from the filenames of the TXT files)\n",
        "              and values are product descriptions loaded from TXT files.\n",
        "    \"\"\"\n",
        "\n",
        "    # Load data from extracted files\n",
        "    sales_data = {}\n",
        "    product_details = {}\n",
        "    product_descriptions = {}\n",
        "\n",
        "    # Load sales data from CSV file\n",
        "    csv_file_path = os.path.join(main_folder, 'sales_data.csv') # \"/content/mainfolder/sales_data.csv\"\n",
        "    with open(csv_file_path, 'r') as csv_file:\n",
        "        csv_reader = csv.DictReader(csv_file)\n",
        "        for row in csv_reader:\n",
        "            sku = row['Product_SKU']\n",
        "            quantities = [int(quantity) for quantity in list(row.values())[1:]] # Skip the first value (SKU) and convert the rest\n",
        "            sales_data[sku] = quantities\n",
        "\n",
        "    # Load product details from JSON files\n",
        "    details_dir = os.path.join(main_folder, 'product_details')\n",
        "    for filename in sorted(os.listdir(details_dir)):\n",
        "          json_file_path = os.path.join(details_dir, filename)\n",
        "          # print(\"json_file_path: \",json_file_path)\n",
        "          with open(json_file_path, 'r') as json_file:\n",
        "              sku = filename.split('.')[0]\n",
        "              # print(\"sku: \",sku)\n",
        "              product_details[sku] = json.load(json_file)\n",
        "\n",
        "    # Load product descriptions from TXT files\n",
        "    descriptions_dir = os.path.join(main_folder, 'product_descriptions')\n",
        "    for filename in sorted(os.listdir(descriptions_dir)):\n",
        "        txt_file_path = os.path.join(descriptions_dir, filename)\n",
        "        with open(txt_file_path, 'r') as txt_file:\n",
        "            sku = filename.split('.')[0]\n",
        "            product_descriptions[sku] = txt_file.read()\n",
        "\n",
        "    return product_details, sales_data, product_descriptions"
      ],
      "metadata": {
        "id": "WjgECuuqb-Ci"
      },
      "execution_count": null,
      "outputs": []
    },
    {
      "cell_type": "code",
      "source": [
        "# Use this cell to load the files\n",
        "main_folder_address = '/content/mainfolder'\n",
        "product_details, sales_data, product_descriptions = load_data(main_folder_address)"
      ],
      "metadata": {
        "collapsed": true,
        "id": "CSKemy-JhvFD"
      },
      "execution_count": null,
      "outputs": []
    },
    {
      "cell_type": "code",
      "source": [
        "print(\"Sales Data: \")\n",
        "sales_data"
      ],
      "metadata": {
        "id": "rWu5TvXGppVI",
        "colab": {
          "base_uri": "https://localhost:8080/"
        },
        "outputId": "aed63031-feb4-4212-d11b-67dc858a191f"
      },
      "execution_count": null,
      "outputs": [
        {
          "output_type": "stream",
          "name": "stdout",
          "text": [
            "Sales Data: \n"
          ]
        },
        {
          "output_type": "execute_result",
          "data": {
            "text/plain": [
              "{'AISJDKFJW93NJ': [10, 12, 15, 18, 20, 22, 25, 28, 26, 30, 32, 29, 27, 24],\n",
              " 'DJKFIEI432FIE': [8, 10, 12, 15, 20, 18, 14, 13, 17, 10, 8, 11, 14, 16],\n",
              " 'GGOENEBJ079499': [15, 18, 22, 25, 28, 20, 17, 23, 19, 21, 24, 27, 18, 20],\n",
              " 'HJSKNWK429DJE': [30, 32, 35, 38, 40, 42, 45, 48, 50, 52, 55, 53, 49, 47],\n",
              " 'JFKL3940NFKLJ': [18, 20, 22, 25, 28, 30, 32, 35, 38, 36, 33, 29, 26, 24],\n",
              " 'LKDFJ49LSDJKL': [25, 28, 30, 32, 35, 38, 42, 40, 37, 34, 36, 31, 29, 27],\n",
              " 'MWKDI3JFK39SL': [30, 35, 40, 45, 50, 42, 37, 38, 41, 36, 33, 39, 40, 44],\n",
              " 'NEKFJOWE9FDIW': [12, 15, 18, 20, 22, 24, 21, 23, 25, 28, 30, 27, 26, 29],\n",
              " 'OWEJL398FWJLK': [20, 22, 25, 28, 30, 32, 35, 38, 36, 33, 29, 26, 24, 27],\n",
              " 'XPLFJW2490XJN': [5, 8, 9, 12, 15, 10, 14, 16, 20, 18, 22, 25, 19, 21]}"
            ]
          },
          "metadata": {},
          "execution_count": 8
        }
      ]
    },
    {
      "cell_type": "code",
      "source": [
        "print(\"\\nProduct Details:\")\n",
        "product_details"
      ],
      "metadata": {
        "id": "pOnHOxiSud8j",
        "colab": {
          "base_uri": "https://localhost:8080/"
        },
        "outputId": "766414f7-daeb-4599-8ea8-78da6f8e8525"
      },
      "execution_count": null,
      "outputs": [
        {
          "output_type": "stream",
          "name": "stdout",
          "text": [
            "\n",
            "Product Details:\n"
          ]
        },
        {
          "output_type": "execute_result",
          "data": {
            "text/plain": [
              "{'AISJDKFJW93NJ': {'product_name': 'Wall Art Print',\n",
              "  'brand': 'ArtCraft',\n",
              "  'model': 'NatureCanvas-1001',\n",
              "  'specifications': 'Canvas print, Ready to hang',\n",
              "  'price': '$49.99',\n",
              "  'availability': 'In stock'},\n",
              " 'DJKFIEI432FIE': {'product_name': \"Men's Running Shoes\",\n",
              "  'brand': 'RunFit',\n",
              "  'model': 'SpeedX-500',\n",
              "  'specifications': 'Size 10, Lightweight design, Breathable material',\n",
              "  'price': '$79.99',\n",
              "  'availability': 'In stock'},\n",
              " 'GGOENEBJ079499': {'product_name': 'Smartphone',\n",
              "  'brand': 'XYZ Electronics',\n",
              "  'model': 'ABC-2000',\n",
              "  'specifications': '6.5-inch display, 128GB storage, 16MP camera',\n",
              "  'price': '$499.99',\n",
              "  'availability': 'In stock'},\n",
              " 'HJSKNWK429DJE': {'product_name': 'Wireless Earbuds',\n",
              "  'brand': 'SoundSync',\n",
              "  'model': 'TunePro-2022',\n",
              "  'specifications': 'Bluetooth 5.0, 20 hours battery life, Touch controls',\n",
              "  'price': '$89.99',\n",
              "  'availability': 'In stock'},\n",
              " 'JFKL3940NFKLJ': {'product_name': 'Resistance Bands Set',\n",
              "  'brand': 'FitFlex',\n",
              "  'model': 'StrengthPro-300',\n",
              "  'specifications': '5 bands, Varying resistance levels, Portable',\n",
              "  'price': '$34.99',\n",
              "  'availability': 'In stock'},\n",
              " 'LKDFJ49LSDJKL': {'product_name': 'Anti-Aging Face Cream',\n",
              "  'brand': 'GlowBeauty',\n",
              "  'model': 'AgeDefy-300',\n",
              "  'specifications': 'Natural ingredients, Hydrating formula',\n",
              "  'price': '$39.99',\n",
              "  'availability': 'In stock'},\n",
              " 'MWKDI3JFK39SL': {'product_name': 'Fictional Novel',\n",
              "  'brand': 'BestBooks',\n",
              "  'model': None,\n",
              "  'specifications': 'Paperback, 300 pages',\n",
              "  'price': '$14.99',\n",
              "  'availability': 'In stock'},\n",
              " 'NEKFJOWE9FDIW': {'product_name': 'Board Game',\n",
              "  'brand': 'FamilyFun',\n",
              "  'model': 'GameNight-2022',\n",
              "  'specifications': '2-6 players, Ages 8 and up',\n",
              "  'price': '$29.99',\n",
              "  'availability': 'In stock'},\n",
              " 'OWEJL398FWJLK': {'product_name': 'Yoga Mat',\n",
              "  'brand': 'ZenFitness',\n",
              "  'model': 'EcoMat-500',\n",
              "  'specifications': 'Non-slip, 6mm thickness, Eco-friendly material',\n",
              "  'price': '$19.99',\n",
              "  'availability': 'In stock'},\n",
              " 'XPLFJW2490XJN': {'product_name': 'Robot Vacuum Cleaner',\n",
              "  'brand': 'CleanTech',\n",
              "  'model': 'AutoSweep-9000',\n",
              "  'specifications': 'Smart navigation, HEPA filter, 90 minutes runtime',\n",
              "  'price': '$249.99',\n",
              "  'availability': 'In stock'}}"
            ]
          },
          "metadata": {},
          "execution_count": 9
        }
      ]
    },
    {
      "cell_type": "code",
      "source": [
        "print(\"\\nProduct Descriptions:\")\n",
        "product_descriptions"
      ],
      "metadata": {
        "id": "FAuQEqdnuiej",
        "colab": {
          "base_uri": "https://localhost:8080/"
        },
        "outputId": "7b0d3624-51af-4978-c4db-7e74dd849fd0"
      },
      "execution_count": null,
      "outputs": [
        {
          "output_type": "stream",
          "name": "stdout",
          "text": [
            "\n",
            "Product Descriptions:\n"
          ]
        },
        {
          "output_type": "execute_result",
          "data": {
            "text/plain": [
              "{'AISJDKFJW93NJ': \"Transform your living space with ArtCraft's NatureCanvas-1001 Wall Art Print.\\nThis canvas print, ready to hang, brings the beauty of nature into your home.\\nWith dimensions of 16 x 20 inches and a 4.6/5 stars rating, it's a stunning addition to your decor, creating a focal point that captures attention and sparks conversation.\",\n",
              " 'DJKFIEI432FIE': \"Elevate your running experience with the RunFit SpeedX-500 Men's Running Shoes.\\nDesigned for performance, these shoes feature a lightweight design, breathable material, and are available in vibrant Red, Blue, and classic Black.\\nWhether you're a seasoned runner or just starting, these shoes provide comfort and support for every stride, ensuring you reach new milestones effortlessly.\",\n",
              " 'GGOENEBJ079499': 'Dive into the future with the XYZ Electronics Smartphone, model ABC-2000.\\nBoasting a 6.5-inch display, 128GB storage, and a 16MP camera, this powerful device redefines the smartphone experience.\\nWith a sleek design and available in Black, Silver, and Blue, it combines cutting-edge technology with style, ensuring you stay connected in the most sophisticated way possible.',\n",
              " 'HJSKNWK429DJE': \"Immerse yourself in superior audio quality with SoundSync's TunePro-2022 Wireless Earbuds.\\nFeaturing Bluetooth 5.0, 20 hours of battery life, and touch controls, these earbuds deliver a seamless and immersive listening experience.\\nAvailable in Black and White, they combine style with functionality for music lovers on the go. \\nWith a 4.7/5 stars rating, they stand out as a top choice in the realm of wireless audio.\",\n",
              " 'JFKL3940NFKLJ': \"Embrace versatility in your workouts with FitFlex's StrengthPro-300 Resistance Bands Set.\\nWith 5 bands offering varying resistance levels and portability, this set is your go-to for effective strength training.\\nAvailable in Red, Yellow, and Blue, it caters to different fitness levels and adds a dynamic dimension to your exercise routine.\",\n",
              " 'LKDFJ49LSDJKL': \"Rediscover youthful radiance with GlowBeauty's AgeDefy-300 Anti-Aging Face Cream.\\nFormulated with natural ingredients and a hydrating formula, this skincare essential rejuvenates and nourishes your skin, leaving you with a vibrant and refreshed complexion.\\nWith a stellar 4.7/5 stars rating, it's a must-have for those embracing the journey to ageless beauty.\",\n",
              " 'MWKDI3JFK39SL': \"Immerse yourself in the world of storytelling with BestBooks' Fictional Novel.\\nThis paperback, spanning 300 pages, promises a captivating journey through the pages of an engaging narrative.\\nIdeal for avid readers seeking an escape, this novel, with a 4.6/5 stars rating, is a testament to its ability to weave a compelling tale that keeps you hooked until the last page.\",\n",
              " 'NEKFJOWE9FDIW': \"Unleash the fun with FamilyFun's GameNight-2022 Board Game.\\nDesigned for 2-6 players and suitable for ages 8 and up, this exciting game promises laughter and bonding moments for the entire family.\\nWith a 4.4/5 stars rating, it's a testament to its ability to turn any ordinary night into an extraordinary game night filled with friendly competition and shared joy.\",\n",
              " 'OWEJL398FWJLK': \"Elevate your yoga practice with ZenFitness' EcoMat-500 Yoga Mat.\\nFeaturing a non-slip surface, 6mm thickness, and eco-friendly materials, this high-quality mat provides the perfect foundation for your workouts.\\nAvailable in Purple, Green, and Blue, it not only enhances your comfort but also adds a touch of serenity to your exercise routine.\",\n",
              " 'XPLFJW2490XJN': 'Introducing the CleanTech AutoSweep-9000 Robot Vacuum Cleaner – your smart companion for automated cleaning.\\nWith smart navigation, a HEPA filter, and a runtime of 90 minutes, this efficient device takes care of your cleaning needs.\\nAvailable in White and Silver, it blends seamlessly into your home, making cleanliness a hassle-free experience.'}"
            ]
          },
          "metadata": {},
          "execution_count": 10
        }
      ]
    },
    {
      "cell_type": "code",
      "source": [
        "product_skus = list(product_details.keys())\n",
        "product_skus"
      ],
      "metadata": {
        "colab": {
          "base_uri": "https://localhost:8080/"
        },
        "id": "hAnosZuzovq_",
        "outputId": "647da890-28ae-4c24-e99f-faca867dcc1e"
      },
      "execution_count": null,
      "outputs": [
        {
          "output_type": "execute_result",
          "data": {
            "text/plain": [
              "['AISJDKFJW93NJ',\n",
              " 'DJKFIEI432FIE',\n",
              " 'GGOENEBJ079499',\n",
              " 'HJSKNWK429DJE',\n",
              " 'JFKL3940NFKLJ',\n",
              " 'LKDFJ49LSDJKL',\n",
              " 'MWKDI3JFK39SL',\n",
              " 'NEKFJOWE9FDIW',\n",
              " 'OWEJL398FWJLK',\n",
              " 'XPLFJW2490XJN']"
            ]
          },
          "metadata": {},
          "execution_count": 11
        }
      ]
    },
    {
      "cell_type": "code",
      "source": [
        "sales_data[product_skus[1]]"
      ],
      "metadata": {
        "colab": {
          "base_uri": "https://localhost:8080/"
        },
        "id": "qEaQEV-btajs",
        "outputId": "08263283-351b-4bc3-86b1-77e31ef12943"
      },
      "execution_count": null,
      "outputs": [
        {
          "output_type": "execute_result",
          "data": {
            "text/plain": [
              "[8, 10, 12, 15, 20, 18, 14, 13, 17, 10, 8, 11, 14, 16]"
            ]
          },
          "metadata": {},
          "execution_count": 12
        }
      ]
    },
    {
      "cell_type": "code",
      "source": [
        "product_details[product_skus[0]]"
      ],
      "metadata": {
        "colab": {
          "base_uri": "https://localhost:8080/"
        },
        "id": "KYpfIz_ktiTT",
        "outputId": "03b60566-d8a2-41b0-8c2e-66a504305727"
      },
      "execution_count": null,
      "outputs": [
        {
          "output_type": "execute_result",
          "data": {
            "text/plain": [
              "{'product_name': 'Wall Art Print',\n",
              " 'brand': 'ArtCraft',\n",
              " 'model': 'NatureCanvas-1001',\n",
              " 'specifications': 'Canvas print, Ready to hang',\n",
              " 'price': '$49.99',\n",
              " 'availability': 'In stock'}"
            ]
          },
          "metadata": {},
          "execution_count": 13
        }
      ]
    },
    {
      "cell_type": "code",
      "source": [
        "product_details[product_skus[1]]"
      ],
      "metadata": {
        "colab": {
          "base_uri": "https://localhost:8080/"
        },
        "id": "7WjfC7fAtond",
        "outputId": "20001060-cee0-4dd9-f79b-c6780f82c58d"
      },
      "execution_count": null,
      "outputs": [
        {
          "output_type": "execute_result",
          "data": {
            "text/plain": [
              "{'product_name': \"Men's Running Shoes\",\n",
              " 'brand': 'RunFit',\n",
              " 'model': 'SpeedX-500',\n",
              " 'specifications': 'Size 10, Lightweight design, Breathable material',\n",
              " 'price': '$79.99',\n",
              " 'availability': 'In stock'}"
            ]
          },
          "metadata": {},
          "execution_count": 14
        }
      ]
    },
    {
      "cell_type": "code",
      "source": [
        "product_descriptions[product_skus[0]]"
      ],
      "metadata": {
        "colab": {
          "base_uri": "https://localhost:8080/",
          "height": 90
        },
        "id": "ipgqjuDxttkk",
        "outputId": "d90208ea-bb6c-4e6b-b888-08361b8ed265"
      },
      "execution_count": null,
      "outputs": [
        {
          "output_type": "execute_result",
          "data": {
            "text/plain": [
              "\"Transform your living space with ArtCraft's NatureCanvas-1001 Wall Art Print.\\nThis canvas print, ready to hang, brings the beauty of nature into your home.\\nWith dimensions of 16 x 20 inches and a 4.6/5 stars rating, it's a stunning addition to your decor, creating a focal point that captures attention and sparks conversation.\""
            ],
            "application/vnd.google.colaboratory.intrinsic+json": {
              "type": "string"
            }
          },
          "metadata": {},
          "execution_count": 15
        }
      ]
    },
    {
      "cell_type": "code",
      "source": [
        "product_descriptions[product_skus[1]]"
      ],
      "metadata": {
        "colab": {
          "base_uri": "https://localhost:8080/",
          "height": 90
        },
        "id": "upKNm7BVt9Bm",
        "outputId": "1922e363-c077-4b31-bb14-9f08e7691bcd"
      },
      "execution_count": null,
      "outputs": [
        {
          "output_type": "execute_result",
          "data": {
            "text/plain": [
              "\"Elevate your running experience with the RunFit SpeedX-500 Men's Running Shoes.\\nDesigned for performance, these shoes feature a lightweight design, breathable material, and are available in vibrant Red, Blue, and classic Black.\\nWhether you're a seasoned runner or just starting, these shoes provide comfort and support for every stride, ensuring you reach new milestones effortlessly.\""
            ],
            "application/vnd.google.colaboratory.intrinsic+json": {
              "type": "string"
            }
          },
          "metadata": {},
          "execution_count": 16
        }
      ]
    },
    {
      "cell_type": "code",
      "source": [
        "# Display the length of sales_data, product_details, and product_descriptions.\n",
        "print(\"Length of sales_data:\", len(sales_data))"
      ],
      "metadata": {
        "colab": {
          "base_uri": "https://localhost:8080/"
        },
        "id": "Jx1GfGv3t-pD",
        "outputId": "75d90370-5bb2-44b7-bb1f-f2b9ae021d0e"
      },
      "execution_count": null,
      "outputs": [
        {
          "output_type": "stream",
          "name": "stdout",
          "text": [
            "Length of sales_data: 10\n"
          ]
        }
      ]
    },
    {
      "cell_type": "code",
      "source": [
        "print(\"Length of product_details:\", len(product_details))"
      ],
      "metadata": {
        "colab": {
          "base_uri": "https://localhost:8080/"
        },
        "id": "CmmQjw1iu1oO",
        "outputId": "0e2c655c-f541-4176-8944-06f78a31220e"
      },
      "execution_count": null,
      "outputs": [
        {
          "output_type": "stream",
          "name": "stdout",
          "text": [
            "Length of product_details: 10\n"
          ]
        }
      ]
    },
    {
      "cell_type": "code",
      "source": [
        "print(\"Length of product_descriptions:\", len(product_descriptions))"
      ],
      "metadata": {
        "colab": {
          "base_uri": "https://localhost:8080/"
        },
        "id": "EkdbHBxnu3Xe",
        "outputId": "0ae0e331-789c-4d50-e519-11caec42a878"
      },
      "execution_count": null,
      "outputs": [
        {
          "output_type": "stream",
          "name": "stdout",
          "text": [
            "Length of product_descriptions: 10\n"
          ]
        }
      ]
    },
    {
      "cell_type": "code",
      "source": [
        "sales_data"
      ],
      "metadata": {
        "colab": {
          "base_uri": "https://localhost:8080/"
        },
        "id": "pN4anjYuu5dQ",
        "outputId": "9da95236-6166-41e1-ed79-12abc37455d8"
      },
      "execution_count": null,
      "outputs": [
        {
          "output_type": "execute_result",
          "data": {
            "text/plain": [
              "{'AISJDKFJW93NJ': [10, 12, 15, 18, 20, 22, 25, 28, 26, 30, 32, 29, 27, 24],\n",
              " 'DJKFIEI432FIE': [8, 10, 12, 15, 20, 18, 14, 13, 17, 10, 8, 11, 14, 16],\n",
              " 'GGOENEBJ079499': [15, 18, 22, 25, 28, 20, 17, 23, 19, 21, 24, 27, 18, 20],\n",
              " 'HJSKNWK429DJE': [30, 32, 35, 38, 40, 42, 45, 48, 50, 52, 55, 53, 49, 47],\n",
              " 'JFKL3940NFKLJ': [18, 20, 22, 25, 28, 30, 32, 35, 38, 36, 33, 29, 26, 24],\n",
              " 'LKDFJ49LSDJKL': [25, 28, 30, 32, 35, 38, 42, 40, 37, 34, 36, 31, 29, 27],\n",
              " 'MWKDI3JFK39SL': [30, 35, 40, 45, 50, 42, 37, 38, 41, 36, 33, 39, 40, 44],\n",
              " 'NEKFJOWE9FDIW': [12, 15, 18, 20, 22, 24, 21, 23, 25, 28, 30, 27, 26, 29],\n",
              " 'OWEJL398FWJLK': [20, 22, 25, 28, 30, 32, 35, 38, 36, 33, 29, 26, 24, 27],\n",
              " 'XPLFJW2490XJN': [5, 8, 9, 12, 15, 10, 14, 16, 20, 18, 22, 25, 19, 21]}"
            ]
          },
          "metadata": {},
          "execution_count": 20
        }
      ]
    },
    {
      "cell_type": "code",
      "source": [
        "def add_sales_data(sales_data, sku, quantities):\n",
        "    \"\"\"\n",
        "    Add sales data for a new product SKU.\n",
        "\n",
        "    Parameters:\n",
        "        sales_data (dict): The dictionary containing sales data.\n",
        "        sku (str): The product SKU.\n",
        "        quantities (list of int): List of quantities sold for each of the past 14 days.\n",
        "\n",
        "    Returns:\n",
        "        dict: The updated sales data after adding the entry for the new SKU.\n",
        "    \"\"\"\n",
        "    # Add the new SKU and its corresponding quantities to the sales_data dictionary\n",
        "    sales_data[sku] = quantities\n",
        "\n",
        "    # Return the updated sales_data dictionary\n",
        "    return sales_data"
      ],
      "metadata": {
        "id": "Li7Lk9ehvg3B"
      },
      "execution_count": null,
      "outputs": []
    },
    {
      "cell_type": "code",
      "source": [
        "# New SKU and its quantities to add\n",
        "new_sku = 'TYS56KFJW93NJ'\n",
        "new_quantities = [0, 0, 0, 0, 0, 0, 0, 0, 0, 0, 0, 0, 0, 0]\n",
        "\n",
        "# Add the new SKU and its quantities to the sales_data dictionary\n",
        "sales_data = add_sales_data(sales_data, new_sku, new_quantities)\n",
        "\n",
        "# Print the updated sales_data dictionary\n",
        "sales_data"
      ],
      "metadata": {
        "colab": {
          "base_uri": "https://localhost:8080/"
        },
        "id": "Z0e-JtR4vlEZ",
        "outputId": "83a2e3d7-2ce7-4bb9-eda9-be6730d36a4b"
      },
      "execution_count": null,
      "outputs": [
        {
          "output_type": "execute_result",
          "data": {
            "text/plain": [
              "{'AISJDKFJW93NJ': [10, 12, 15, 18, 20, 22, 25, 28, 26, 30, 32, 29, 27, 24],\n",
              " 'DJKFIEI432FIE': [8, 10, 12, 15, 20, 18, 14, 13, 17, 10, 8, 11, 14, 16],\n",
              " 'GGOENEBJ079499': [15, 18, 22, 25, 28, 20, 17, 23, 19, 21, 24, 27, 18, 20],\n",
              " 'HJSKNWK429DJE': [30, 32, 35, 38, 40, 42, 45, 48, 50, 52, 55, 53, 49, 47],\n",
              " 'JFKL3940NFKLJ': [18, 20, 22, 25, 28, 30, 32, 35, 38, 36, 33, 29, 26, 24],\n",
              " 'LKDFJ49LSDJKL': [25, 28, 30, 32, 35, 38, 42, 40, 37, 34, 36, 31, 29, 27],\n",
              " 'MWKDI3JFK39SL': [30, 35, 40, 45, 50, 42, 37, 38, 41, 36, 33, 39, 40, 44],\n",
              " 'NEKFJOWE9FDIW': [12, 15, 18, 20, 22, 24, 21, 23, 25, 28, 30, 27, 26, 29],\n",
              " 'OWEJL398FWJLK': [20, 22, 25, 28, 30, 32, 35, 38, 36, 33, 29, 26, 24, 27],\n",
              " 'XPLFJW2490XJN': [5, 8, 9, 12, 15, 10, 14, 16, 20, 18, 22, 25, 19, 21],\n",
              " 'CMWKCILOP27KF': [8, 14, 16, 7, 15, 21, 14, 16, 32, 29, 26, 30, 25, 22],\n",
              " 'TYS56KFJW93NJ': [0, 0, 0, 0, 0, 0, 0, 0, 0, 0, 0, 0, 0, 0]}"
            ]
          },
          "metadata": {},
          "execution_count": 62
        }
      ]
    },
    {
      "cell_type": "code",
      "source": [
        "def add_product_details(product_details, sku, product_info):\n",
        "    \"\"\"\n",
        "    Create a new product details entry in the product details dictionary using the provided product information.\n",
        "\n",
        "    Parameters:\n",
        "        product_details (dict): The dictionary containing product details.\n",
        "        sku (str): The product SKU.\n",
        "        product_info (dict): A dictionary containing the details of the product, such as product name, brand, model, specifications, price, and availability.\n",
        "\n",
        "    Returns:\n",
        "        dict: The updated product details with the new product entry.\n",
        "    \"\"\"\n",
        "    product_details[sku] = product_info\n",
        "    return product_details"
      ],
      "metadata": {
        "id": "fpYG6yDLwZY8"
      },
      "execution_count": null,
      "outputs": []
    },
    {
      "cell_type": "code",
      "source": [
        "product_details = add_product_details(product_details,\n",
        "                                      'TYS56KFJW93NJ',\n",
        "                                      {'product_name': 'Laptop',\n",
        "                                       'brand': 'Acer',\n",
        "                                       'model': 'Acer Aspire 3',\n",
        "                                       'specifications': 'Intel Core i3 N305 Laptop (Windows 11 Home/8 GB/512 GB SSD) A314-36M, 35.56 cm (14\") Full HD Display, 1.4 KG, Pure Silver',\n",
        "                                       'price': 'INR 32,999.00',\n",
        "                                       'availability': 'In stock'})\n",
        "\n",
        "product_details"
      ],
      "metadata": {
        "colab": {
          "base_uri": "https://localhost:8080/"
        },
        "id": "iJgEPJRMyYhd",
        "outputId": "b5713d9b-3e86-460a-9b65-abf65aa54043"
      },
      "execution_count": null,
      "outputs": [
        {
          "output_type": "execute_result",
          "data": {
            "text/plain": [
              "{'AISJDKFJW93NJ': {'product_name': 'Wall Art Print',\n",
              "  'brand': 'ArtCraft',\n",
              "  'model': 'NatureCanvas-1001',\n",
              "  'specifications': 'Canvas print, Ready to hang',\n",
              "  'price': '$49.99',\n",
              "  'availability': 'In stock'},\n",
              " 'DJKFIEI432FIE': {'product_name': \"Men's Running Shoes\",\n",
              "  'brand': 'RunFit',\n",
              "  'model': 'SpeedX-500',\n",
              "  'specifications': 'Size 10, Lightweight design, Breathable material',\n",
              "  'price': '$79.99',\n",
              "  'availability': 'In stock'},\n",
              " 'GGOENEBJ079499': {'product_name': 'Smartphone',\n",
              "  'brand': 'XYZ Electronics',\n",
              "  'model': 'ABC-2000',\n",
              "  'specifications': '6.5-inch display, 128GB storage, 16MP camera',\n",
              "  'price': '$499.99',\n",
              "  'availability': 'In stock'},\n",
              " 'HJSKNWK429DJE': {'product_name': 'Wireless Earbuds',\n",
              "  'brand': 'SoundSync',\n",
              "  'model': 'TunePro-2022',\n",
              "  'specifications': 'Bluetooth 5.0, 20 hours battery life, Touch controls',\n",
              "  'price': '$89.99',\n",
              "  'availability': 'In stock'},\n",
              " 'JFKL3940NFKLJ': {'product_name': 'Resistance Bands Set',\n",
              "  'brand': 'FitFlex',\n",
              "  'model': 'StrengthPro-300',\n",
              "  'specifications': '5 bands, Varying resistance levels, Portable',\n",
              "  'price': '$34.99',\n",
              "  'availability': 'In stock'},\n",
              " 'LKDFJ49LSDJKL': {'product_name': 'Anti-Aging Face Cream',\n",
              "  'brand': 'GlowBeauty',\n",
              "  'model': 'AgeDefy-300',\n",
              "  'specifications': 'Natural ingredients, Hydrating formula',\n",
              "  'price': '$39.99',\n",
              "  'availability': 'In stock'},\n",
              " 'MWKDI3JFK39SL': {'product_name': 'Fictional Novel',\n",
              "  'brand': 'BestBooks',\n",
              "  'model': None,\n",
              "  'specifications': 'Paperback, 300 pages',\n",
              "  'price': '$14.99',\n",
              "  'availability': 'In stock'},\n",
              " 'NEKFJOWE9FDIW': {'product_name': 'Board Game',\n",
              "  'brand': 'FamilyFun',\n",
              "  'model': 'GameNight-2022',\n",
              "  'specifications': '2-6 players, Ages 8 and up',\n",
              "  'price': '$29.99',\n",
              "  'availability': 'In stock'},\n",
              " 'OWEJL398FWJLK': {'product_name': 'Yoga Mat',\n",
              "  'brand': 'ZenFitness',\n",
              "  'model': 'EcoMat-500',\n",
              "  'specifications': 'Non-slip, 6mm thickness, Eco-friendly material',\n",
              "  'price': '$19.99',\n",
              "  'availability': 'In stock'},\n",
              " 'XPLFJW2490XJN': {'product_name': 'Robot Vacuum Cleaner',\n",
              "  'brand': 'CleanTech',\n",
              "  'model': 'AutoSweep-9000',\n",
              "  'specifications': 'Smart navigation, HEPA filter, 90 minutes runtime',\n",
              "  'price': '$249.99',\n",
              "  'availability': 'In stock'},\n",
              " 'TYS56KFJW93NJ': {'product_name': 'Laptop',\n",
              "  'brand': 'Acer',\n",
              "  'model': 'Acer Aspire 3',\n",
              "  'specifications': 'Intel Core i3 N305 Laptop (Windows 11 Home/8 GB/512 GB SSD) A314-36M, 35.56 cm (14\") Full HD Display, 1.4 KG, Pure Silver',\n",
              "  'price': 'INR 32,999.00',\n",
              "  'availability': 'In stock'}}"
            ]
          },
          "metadata": {},
          "execution_count": 64
        }
      ]
    },
    {
      "cell_type": "code",
      "source": [
        "def add_product_description(product_descriptions, sku, description):\n",
        "    \"\"\"\n",
        "    Adds a new product description to the product descriptions dictionary using the provided SKU as the key.\n",
        "\n",
        "    Parameters:\n",
        "        product_descriptions (dict): The dictionary containing existing product descriptions.\n",
        "        sku (str): The product SKU.\n",
        "        description (str): The description of the product.\n",
        "\n",
        "    Returns:\n",
        "        dict: The updated product descriptions dictionary with the new product description added.\n",
        "    \"\"\"\n",
        "    product_descriptions[sku] = description\n",
        "    return product_descriptions"
      ],
      "metadata": {
        "id": "kCVLVt0N0Hte"
      },
      "execution_count": null,
      "outputs": []
    },
    {
      "cell_type": "code",
      "source": [
        "product_descriptions = add_product_description(product_descriptions,\n",
        "                                               'TYS56KFJW93NJ',\n",
        "                                               'The Aspire 3 is ready to go with the latest Intel® Core™ i3 N-Series Processors1 with UHD Graphics—ideal for the entire family, with performance and productivity at the core. Perfect to get more out of work, study, or play.')\n",
        "product_descriptions"
      ],
      "metadata": {
        "colab": {
          "base_uri": "https://localhost:8080/"
        },
        "id": "BwOvMsVT0mP0",
        "outputId": "c750e0a3-b733-4d80-b0c1-834ff1529c98"
      },
      "execution_count": null,
      "outputs": [
        {
          "output_type": "execute_result",
          "data": {
            "text/plain": [
              "{'AISJDKFJW93NJ': \"Transform your living space with ArtCraft's NatureCanvas-1001 Wall Art Print.\\nThis canvas print, ready to hang, brings the beauty of nature into your home.\\nWith dimensions of 16 x 20 inches and a 4.6/5 stars rating, it's a stunning addition to your decor, creating a focal point that captures attention and sparks conversation.\",\n",
              " 'DJKFIEI432FIE': \"Elevate your running experience with the RunFit SpeedX-500 Men's Running Shoes.\\nDesigned for performance, these shoes feature a lightweight design, breathable material, and are available in vibrant Red, Blue, and classic Black.\\nWhether you're a seasoned runner or just starting, these shoes provide comfort and support for every stride, ensuring you reach new milestones effortlessly.\",\n",
              " 'GGOENEBJ079499': 'Dive into the future with the XYZ Electronics Smartphone, model ABC-2000.\\nBoasting a 6.5-inch display, 128GB storage, and a 16MP camera, this powerful device redefines the smartphone experience.\\nWith a sleek design and available in Black, Silver, and Blue, it combines cutting-edge technology with style, ensuring you stay connected in the most sophisticated way possible.',\n",
              " 'HJSKNWK429DJE': \"Immerse yourself in superior audio quality with SoundSync's TunePro-2022 Wireless Earbuds.\\nFeaturing Bluetooth 5.0, 20 hours of battery life, and touch controls, these earbuds deliver a seamless and immersive listening experience.\\nAvailable in Black and White, they combine style with functionality for music lovers on the go. \\nWith a 4.7/5 stars rating, they stand out as a top choice in the realm of wireless audio.\",\n",
              " 'JFKL3940NFKLJ': \"Embrace versatility in your workouts with FitFlex's StrengthPro-300 Resistance Bands Set.\\nWith 5 bands offering varying resistance levels and portability, this set is your go-to for effective strength training.\\nAvailable in Red, Yellow, and Blue, it caters to different fitness levels and adds a dynamic dimension to your exercise routine.\",\n",
              " 'LKDFJ49LSDJKL': \"Rediscover youthful radiance with GlowBeauty's AgeDefy-300 Anti-Aging Face Cream.\\nFormulated with natural ingredients and a hydrating formula, this skincare essential rejuvenates and nourishes your skin, leaving you with a vibrant and refreshed complexion.\\nWith a stellar 4.7/5 stars rating, it's a must-have for those embracing the journey to ageless beauty.\",\n",
              " 'MWKDI3JFK39SL': \"Immerse yourself in the world of storytelling with BestBooks' Fictional Novel.\\nThis paperback, spanning 300 pages, promises a captivating journey through the pages of an engaging narrative.\\nIdeal for avid readers seeking an escape, this novel, with a 4.6/5 stars rating, is a testament to its ability to weave a compelling tale that keeps you hooked until the last page.\",\n",
              " 'NEKFJOWE9FDIW': \"Unleash the fun with FamilyFun's GameNight-2022 Board Game.\\nDesigned for 2-6 players and suitable for ages 8 and up, this exciting game promises laughter and bonding moments for the entire family.\\nWith a 4.4/5 stars rating, it's a testament to its ability to turn any ordinary night into an extraordinary game night filled with friendly competition and shared joy.\",\n",
              " 'OWEJL398FWJLK': \"Elevate your yoga practice with ZenFitness' EcoMat-500 Yoga Mat.\\nFeaturing a non-slip surface, 6mm thickness, and eco-friendly materials, this high-quality mat provides the perfect foundation for your workouts.\\nAvailable in Purple, Green, and Blue, it not only enhances your comfort but also adds a touch of serenity to your exercise routine.\",\n",
              " 'XPLFJW2490XJN': 'Introducing the CleanTech AutoSweep-9000 Robot Vacuum Cleaner – your smart companion for automated cleaning.\\nWith smart navigation, a HEPA filter, and a runtime of 90 minutes, this efficient device takes care of your cleaning needs.\\nAvailable in White and Silver, it blends seamlessly into your home, making cleanliness a hassle-free experience.',\n",
              " 'TYS56KFJW93NJ': 'The Aspire 3 is ready to go with the latest Intel® Core™ i3 N-Series Processors1 with UHD Graphics—ideal for the entire family, with performance and productivity at the core. Perfect to get more out of work, study, or play.'}"
            ]
          },
          "metadata": {},
          "execution_count": 66
        }
      ]
    },
    {
      "cell_type": "code",
      "source": [
        "def create(product_details, sales_data, product_descriptions):\n",
        "    \"\"\"\n",
        "    Collects comprehensive information about a new product from the user, validates the input, and updates the respective dictionaries with product details, sales data, and descriptions.\n",
        "\n",
        "    This function performs a series of prompts to the user to input the SKU, sales data for the last 14 days, product details (including name, brand, model, specifications, price, and availability), and a product description. Each input is validated for specific criteria:\n",
        "\n",
        "    - The SKU must be exactly 13 characters long.\n",
        "    - Sales data must consist of exactly 14 integers, representing sales for the last 14 days.\n",
        "    - Product details and description inputs are collected without specific validation but are required for successful product registration.\n",
        "\n",
        "    If any validation fails, the function prints an error message and terminates without updating any of the dictionaries, ensuring data integrity and consistency across product records.\n",
        "\n",
        "    Parameters:\n",
        "        product_details (dict): A dictionary containing existing product details. Each entry maps an SKU to its corresponding product details.\n",
        "        sales_data (dict): A dictionary containing sales data. Each entry maps an SKU to a list of sales quantities for the last 14 days.\n",
        "        product_descriptions (dict): A dictionary containing product descriptions. Each entry maps an SKU to its corresponding textual description.\n",
        "\n",
        "    Returns:\n",
        "        tuple: A tuple containing the updated dictionaries (product_details, sales_data, product_descriptions) in that order.\n",
        "\n",
        "    Usage:\n",
        "        The function is designed to be called when a new product is to be added to the system. It requires the caller to pass the current state of the product_details, sales_data, and product_descriptions dictionaries, and returns their updated states.\n",
        "    \"\"\"\n",
        "\n",
        "    sku = input('Enter the product SKU: ')\n",
        "    if len(sku) != 13:\n",
        "        print('Invalid SKU. The SKU must be exactly 13 characters long.')\n",
        "        return product_details, sales_data, product_descriptions\n",
        "\n",
        "    sales_input = input('Enter sales data for the last 14 days, separated by space: ')\n",
        "    sales_quantities = sales_input.split()\n",
        "    if not (len(sales_quantities) == 14 and all(x.isdigit() for x in sales_quantities)):\n",
        "        print('Invalid sales data. Please ensure you enter exactly 14 integers.')\n",
        "        return product_details, sales_data, product_descriptions\n",
        "    sales_quantities = [int(x) for x in sales_quantities]\n",
        "\n",
        "    product_name = input('Enter the product name: ')\n",
        "    brand = input('Enter the brand: ')\n",
        "    model = input('Enter the model: ')\n",
        "    specifications = input('Enter the specifications: ')\n",
        "    price = input('Enter the price: ')\n",
        "    availability = input('Enter the availability: ')\n",
        "    product_info = {\n",
        "        'product_name': product_name,\n",
        "        'brand': brand,\n",
        "        'model': model,\n",
        "        'specifications': specifications,\n",
        "        'price': price,\n",
        "        'availability': availability\n",
        "    }\n",
        "\n",
        "    description = input('Enter the product description: ')\n",
        "\n",
        "    # Assuming all inputs are now valid, call the functions to add the data\n",
        "    sales_data = add_sales_data(sales_data, sku, sales_quantities)\n",
        "    product_details = add_product_details(product_details, sku, product_info)\n",
        "    product_descriptions = add_product_description(product_descriptions, sku, description)\n",
        "\n",
        "    # Print a single success message after all data has been successfully added\n",
        "    print('All product information for the new product was added successfully!')\n",
        "\n",
        "    return product_details, sales_data, product_descriptions"
      ],
      "metadata": {
        "id": "cQjU67fc3Gep"
      },
      "execution_count": null,
      "outputs": []
    },
    {
      "cell_type": "code",
      "source": [
        "product_details, sales_data, product_descriptions = create(product_details, sales_data, product_descriptions)"
      ],
      "metadata": {
        "colab": {
          "base_uri": "https://localhost:8080/"
        },
        "id": "34Gl02cj3wgb",
        "outputId": "a27a3d2c-ae5d-4382-fe83-467da19afee8"
      },
      "execution_count": null,
      "outputs": [
        {
          "output_type": "stream",
          "name": "stdout",
          "text": [
            "Enter the product SKU: ABC56KFJW93NJ\n",
            "Enter sales data for the last 14 days, separated by space: 1 2 3 4 5 6 7 8 9 10 11 12 13 14\n",
            "Enter the product name: Television\n",
            "Enter the brand: LG\n",
            "Enter the model: A to Z\n",
            "Enter the specifications: Different Series \n",
            "Enter the price: $1000.00\n",
            "Enter the availability: Limited Stock\n",
            "Enter the product description: High Graphics & AI Built in\n",
            "All product information for the new product was added successfully!\n"
          ]
        }
      ]
    },
    {
      "cell_type": "code",
      "source": [
        "sales_data"
      ],
      "metadata": {
        "colab": {
          "base_uri": "https://localhost:8080/"
        },
        "id": "7jpDMm1H45g8",
        "outputId": "e957678a-84ab-4691-e75e-6648e96d8197"
      },
      "execution_count": null,
      "outputs": [
        {
          "output_type": "execute_result",
          "data": {
            "text/plain": [
              "{'AISJDKFJW93NJ': [10, 12, 15, 18, 20, 22, 25, 28, 26, 30, 32, 29, 27, 24],\n",
              " 'DJKFIEI432FIE': [8, 10, 12, 15, 20, 18, 14, 13, 17, 10, 8, 11, 14, 16],\n",
              " 'GGOENEBJ079499': [15, 18, 22, 25, 28, 20, 17, 23, 19, 21, 24, 27, 18, 20],\n",
              " 'HJSKNWK429DJE': [30, 32, 35, 38, 40, 42, 45, 48, 50, 52, 55, 53, 49, 47],\n",
              " 'JFKL3940NFKLJ': [18, 20, 22, 25, 28, 30, 32, 35, 38, 36, 33, 29, 26, 24],\n",
              " 'LKDFJ49LSDJKL': [25, 28, 30, 32, 35, 38, 42, 40, 37, 34, 36, 31, 29, 27],\n",
              " 'MWKDI3JFK39SL': [30, 35, 40, 45, 50, 42, 37, 38, 41, 36, 33, 39, 40, 44],\n",
              " 'NEKFJOWE9FDIW': [12, 15, 18, 20, 22, 24, 21, 23, 25, 28, 30, 27, 26, 29],\n",
              " 'OWEJL398FWJLK': [20, 22, 25, 28, 30, 32, 35, 38, 36, 33, 29, 26, 24, 27],\n",
              " 'XPLFJW2490XJN': [5, 8, 9, 12, 15, 10, 14, 16, 20, 18, 22, 25, 19, 21],\n",
              " 'CMWKCILOP27KF': [8, 14, 16, 7, 15, 21, 14, 16, 32, 29, 26, 30, 25, 22],\n",
              " 'TYS56KFJW93NJ': [0, 0, 0, 0, 0, 0, 0, 0, 0, 0, 0, 0, 0, 0],\n",
              " 'ABC56KFJW93NJ': [1, 2, 3, 4, 5, 6, 7, 8, 9, 10, 11, 12, 13, 14]}"
            ]
          },
          "metadata": {},
          "execution_count": 70
        }
      ]
    },
    {
      "cell_type": "code",
      "source": [
        "def display_sales_data(sales_data, sku):\n",
        "    \"\"\"\n",
        "    Display sales data for a product with a given SKU.\n",
        "\n",
        "    Parameters:\n",
        "        sales_data (dict): The dictionary containing sales data.\n",
        "        sku (str): The product SKU.\n",
        "\n",
        "    Returns:\n",
        "        None\n",
        "    \"\"\"\n",
        "    print(f\"Sales data for SKU {sku}:\")\n",
        "    pprint.pprint(sales_data.get(sku, 'Product sku not found in sales data'))"
      ],
      "metadata": {
        "id": "IV9u8L3B46hg"
      },
      "execution_count": null,
      "outputs": []
    },
    {
      "cell_type": "code",
      "source": [
        "display_sales_data(sales_data, 'ABC56KFJW93NJ')"
      ],
      "metadata": {
        "colab": {
          "base_uri": "https://localhost:8080/"
        },
        "id": "rLoIpXIF5BIU",
        "outputId": "3f8f0d09-731e-4756-c6b5-999372030e24"
      },
      "execution_count": null,
      "outputs": [
        {
          "output_type": "stream",
          "name": "stdout",
          "text": [
            "Sales data for SKU ABC56KFJW93NJ:\n",
            "[1, 2, 3, 4, 5, 6, 7, 8, 9, 10, 11, 12, 13, 14]\n"
          ]
        }
      ]
    },
    {
      "cell_type": "code",
      "source": [
        "def display_product_details(product_details, sku):\n",
        "    \"\"\"\n",
        "    Display product details for a product with a given SKU.\n",
        "\n",
        "    Parameters:\n",
        "        product_details (dict): The dictionary containing product details.\n",
        "        sku (str): The product SKU.\n",
        "\n",
        "    Returns:\n",
        "        None\n",
        "    \"\"\"\n",
        "    print(f\"Product details for SKU {sku}:\")\n",
        "    pprint.pprint(product_details.get(sku, 'Product sku not found in product details'))"
      ],
      "metadata": {
        "id": "fZD7E7Il5CQY"
      },
      "execution_count": null,
      "outputs": []
    },
    {
      "cell_type": "code",
      "source": [
        "display_product_details(product_details, 'ABC56KFJW93NJ')"
      ],
      "metadata": {
        "colab": {
          "base_uri": "https://localhost:8080/"
        },
        "id": "G6bDnuK46roe",
        "outputId": "019bd25a-9aea-49ae-d998-0bdb8b396810"
      },
      "execution_count": null,
      "outputs": [
        {
          "output_type": "stream",
          "name": "stdout",
          "text": [
            "Product details for SKU ABC56KFJW93NJ:\n",
            "{'availability': 'Limited Stock',\n",
            " 'brand': 'LG',\n",
            " 'model': 'A to Z',\n",
            " 'price': '$1000.00',\n",
            " 'product_name': 'Television',\n",
            " 'specifications': 'Different Series '}\n"
          ]
        }
      ]
    },
    {
      "cell_type": "code",
      "source": [
        "def display_product_descriptions(product_descriptions, sku):\n",
        "    \"\"\"\n",
        "    Display product description for a product with a given SKU.\n",
        "\n",
        "    Parameters:\n",
        "        product_descriptions (dict): The dictionary containing product descriptions.\n",
        "        sku (str): The product SKU.\n",
        "\n",
        "    Returns:\n",
        "        None\n",
        "    \"\"\"\n",
        "    print(f\"Product description for SKU {sku}:\")\n",
        "    pprint.pprint(product_descriptions.get(sku, 'Product sku not found in product descriptions'))"
      ],
      "metadata": {
        "id": "rlX4sU2x6wsd"
      },
      "execution_count": null,
      "outputs": []
    },
    {
      "cell_type": "code",
      "source": [
        "product_descriptions"
      ],
      "metadata": {
        "colab": {
          "base_uri": "https://localhost:8080/"
        },
        "id": "cuCa9MOA6zrC",
        "outputId": "861e5450-4077-4727-999b-80ad6c445a2c"
      },
      "execution_count": null,
      "outputs": [
        {
          "output_type": "execute_result",
          "data": {
            "text/plain": [
              "{'AISJDKFJW93NJ': \"Transform your living space with ArtCraft's NatureCanvas-1001 Wall Art Print.\\nThis canvas print, ready to hang, brings the beauty of nature into your home.\\nWith dimensions of 16 x 20 inches and a 4.6/5 stars rating, it's a stunning addition to your decor, creating a focal point that captures attention and sparks conversation.\",\n",
              " 'DJKFIEI432FIE': \"Elevate your running experience with the RunFit SpeedX-500 Men's Running Shoes.\\nDesigned for performance, these shoes feature a lightweight design, breathable material, and are available in vibrant Red, Blue, and classic Black.\\nWhether you're a seasoned runner or just starting, these shoes provide comfort and support for every stride, ensuring you reach new milestones effortlessly.\",\n",
              " 'GGOENEBJ079499': 'Dive into the future with the XYZ Electronics Smartphone, model ABC-2000.\\nBoasting a 6.5-inch display, 128GB storage, and a 16MP camera, this powerful device redefines the smartphone experience.\\nWith a sleek design and available in Black, Silver, and Blue, it combines cutting-edge technology with style, ensuring you stay connected in the most sophisticated way possible.',\n",
              " 'HJSKNWK429DJE': \"Immerse yourself in superior audio quality with SoundSync's TunePro-2022 Wireless Earbuds.\\nFeaturing Bluetooth 5.0, 20 hours of battery life, and touch controls, these earbuds deliver a seamless and immersive listening experience.\\nAvailable in Black and White, they combine style with functionality for music lovers on the go. \\nWith a 4.7/5 stars rating, they stand out as a top choice in the realm of wireless audio.\",\n",
              " 'JFKL3940NFKLJ': \"Embrace versatility in your workouts with FitFlex's StrengthPro-300 Resistance Bands Set.\\nWith 5 bands offering varying resistance levels and portability, this set is your go-to for effective strength training.\\nAvailable in Red, Yellow, and Blue, it caters to different fitness levels and adds a dynamic dimension to your exercise routine.\",\n",
              " 'LKDFJ49LSDJKL': \"Rediscover youthful radiance with GlowBeauty's AgeDefy-300 Anti-Aging Face Cream.\\nFormulated with natural ingredients and a hydrating formula, this skincare essential rejuvenates and nourishes your skin, leaving you with a vibrant and refreshed complexion.\\nWith a stellar 4.7/5 stars rating, it's a must-have for those embracing the journey to ageless beauty.\",\n",
              " 'MWKDI3JFK39SL': \"Immerse yourself in the world of storytelling with BestBooks' Fictional Novel.\\nThis paperback, spanning 300 pages, promises a captivating journey through the pages of an engaging narrative.\\nIdeal for avid readers seeking an escape, this novel, with a 4.6/5 stars rating, is a testament to its ability to weave a compelling tale that keeps you hooked until the last page.\",\n",
              " 'NEKFJOWE9FDIW': \"Unleash the fun with FamilyFun's GameNight-2022 Board Game.\\nDesigned for 2-6 players and suitable for ages 8 and up, this exciting game promises laughter and bonding moments for the entire family.\\nWith a 4.4/5 stars rating, it's a testament to its ability to turn any ordinary night into an extraordinary game night filled with friendly competition and shared joy.\",\n",
              " 'OWEJL398FWJLK': \"Elevate your yoga practice with ZenFitness' EcoMat-500 Yoga Mat.\\nFeaturing a non-slip surface, 6mm thickness, and eco-friendly materials, this high-quality mat provides the perfect foundation for your workouts.\\nAvailable in Purple, Green, and Blue, it not only enhances your comfort but also adds a touch of serenity to your exercise routine.\",\n",
              " 'XPLFJW2490XJN': 'Introducing the CleanTech AutoSweep-9000 Robot Vacuum Cleaner – your smart companion for automated cleaning.\\nWith smart navigation, a HEPA filter, and a runtime of 90 minutes, this efficient device takes care of your cleaning needs.\\nAvailable in White and Silver, it blends seamlessly into your home, making cleanliness a hassle-free experience.',\n",
              " 'TYS56KFJW93NJ': 'The Aspire 3 is ready to go with the latest Intel® Core™ i3 N-Series Processors1 with UHD Graphics—ideal for the entire family, with performance and productivity at the core. Perfect to get more out of work, study, or play.',\n",
              " 'ABC56KFJW93NJ': 'High Graphics & AI Built in'}"
            ]
          },
          "metadata": {},
          "execution_count": 76
        }
      ]
    },
    {
      "cell_type": "code",
      "source": [
        "display_product_descriptions(product_descriptions, 'ABC56KFJW93NJ')"
      ],
      "metadata": {
        "colab": {
          "base_uri": "https://localhost:8080/"
        },
        "id": "jGUPUV4p63kT",
        "outputId": "ae339e71-1dec-42aa-fab8-2339caa5a734"
      },
      "execution_count": null,
      "outputs": [
        {
          "output_type": "stream",
          "name": "stdout",
          "text": [
            "Product description for SKU ABC56KFJW93NJ:\n",
            "'High Graphics & AI Built in'\n"
          ]
        }
      ]
    },
    {
      "cell_type": "code",
      "source": [
        "def read(product_details, sales_data, product_descriptions):\n",
        "    \"\"\"\n",
        "    Main function to read and display sales data, product details, and product descriptions.\n",
        "    Checks if the SKU exists in any of the dictionaries before proceeding. If the SKU does not exist, prints a message and exits the function early.\n",
        "\n",
        "    Parameters:\n",
        "        sales_data (dict): The dictionary containing sales data.\n",
        "        product_details (dict): The dictionary containing product details.\n",
        "        product_descriptions (dict): The dictionary containing product descriptions.\n",
        "\n",
        "    Returns:\n",
        "        None\n",
        "    \"\"\"\n",
        "    sku = input('Enter the product SKU: ')\n",
        "    if sku not in sales_data and sku not in product_details and sku not in product_descriptions:\n",
        "        print('Product sku not found in any of the dictionaries')\n",
        "        return\n",
        "\n",
        "    display_sales_data(sales_data, sku)\n",
        "    display_product_details(product_details, sku)\n",
        "    display_product_descriptions(product_descriptions, sku)\n"
      ],
      "metadata": {
        "id": "Qln6IH3F7JMl"
      },
      "execution_count": null,
      "outputs": []
    },
    {
      "cell_type": "code",
      "source": [
        "read(product_details, sales_data, product_descriptions)"
      ],
      "metadata": {
        "colab": {
          "base_uri": "https://localhost:8080/"
        },
        "id": "4EUSI7sx7J1P",
        "outputId": "669b5163-5c80-4efa-b3ed-d8c8c92b5494"
      },
      "execution_count": null,
      "outputs": [
        {
          "output_type": "stream",
          "name": "stdout",
          "text": [
            "Enter the product SKU: ABC56KFJW93NJ\n",
            "Sales data for SKU ABC56KFJW93NJ:\n",
            "[1, 2, 3, 4, 5, 6, 7, 8, 9, 10, 11, 12, 13, 14]\n",
            "Product details for SKU ABC56KFJW93NJ:\n",
            "{'availability': 'Limited Stock',\n",
            " 'brand': 'LG',\n",
            " 'model': 'A to Z',\n",
            " 'price': '$1000.00',\n",
            " 'product_name': 'Television',\n",
            " 'specifications': 'Different Series '}\n",
            "Product description for SKU ABC56KFJW93NJ:\n",
            "'High Graphics & AI Built in'\n"
          ]
        }
      ]
    },
    {
      "cell_type": "code",
      "source": [
        "def update_sales_data(sales_data, sku, quantities):\n",
        "    \"\"\"\n",
        "    Update the sales data of an existing product with the provided quantities. Assumes that both the SKU and quantities have been validated beforehand.\n",
        "\n",
        "    Parameters:\n",
        "        sales_data (dict): The dictionary containing sales data.\n",
        "        sku (str): The validated SKU of the product to update.\n",
        "        quantities (list of int): The validated quantities for all 14 days.\n",
        "\n",
        "    Returns:\n",
        "        dict: The updated sales data.\n",
        "    \"\"\"\n",
        "    sales_data[sku] = quantities\n",
        "    return sales_data\n"
      ],
      "metadata": {
        "id": "QIv4e-av8ltz"
      },
      "execution_count": null,
      "outputs": []
    },
    {
      "cell_type": "code",
      "source": [
        "sales_data = update_sales_data(sales_data, 'ABC56KFJW93NJ', [1, 2, 3, 4, 5, 6, 7, 7, 6, 5, 4, 3, 2, 1])\n",
        "sales_data"
      ],
      "metadata": {
        "colab": {
          "base_uri": "https://localhost:8080/"
        },
        "id": "O4dy-MQ08n3x",
        "outputId": "0bd1742c-3a56-4a1a-ac47-0802d00cf0a3"
      },
      "execution_count": null,
      "outputs": [
        {
          "output_type": "execute_result",
          "data": {
            "text/plain": [
              "{'AISJDKFJW93NJ': [10, 12, 15, 18, 20, 22, 25, 28, 26, 30, 32, 29, 27, 24],\n",
              " 'DJKFIEI432FIE': [8, 10, 12, 15, 20, 18, 14, 13, 17, 10, 8, 11, 14, 16],\n",
              " 'GGOENEBJ079499': [15, 18, 22, 25, 28, 20, 17, 23, 19, 21, 24, 27, 18, 20],\n",
              " 'HJSKNWK429DJE': [30, 32, 35, 38, 40, 42, 45, 48, 50, 52, 55, 53, 49, 47],\n",
              " 'JFKL3940NFKLJ': [18, 20, 22, 25, 28, 30, 32, 35, 38, 36, 33, 29, 26, 24],\n",
              " 'LKDFJ49LSDJKL': [25, 28, 30, 32, 35, 38, 42, 40, 37, 34, 36, 31, 29, 27],\n",
              " 'MWKDI3JFK39SL': [30, 35, 40, 45, 50, 42, 37, 38, 41, 36, 33, 39, 40, 44],\n",
              " 'NEKFJOWE9FDIW': [12, 15, 18, 20, 22, 24, 21, 23, 25, 28, 30, 27, 26, 29],\n",
              " 'OWEJL398FWJLK': [20, 22, 25, 28, 30, 32, 35, 38, 36, 33, 29, 26, 24, 27],\n",
              " 'XPLFJW2490XJN': [5, 8, 9, 12, 15, 10, 14, 16, 20, 18, 22, 25, 19, 21],\n",
              " 'CMWKCILOP27KF': [8, 14, 16, 7, 15, 21, 14, 16, 32, 29, 26, 30, 25, 22],\n",
              " 'TYS56KFJW93NJ': [0, 0, 0, 0, 0, 0, 0, 0, 0, 0, 0, 0, 0, 0],\n",
              " 'ABC56KFJW93NJ': [1, 2, 3, 4, 5, 6, 7, 7, 6, 5, 4, 3, 2, 1]}"
            ]
          },
          "metadata": {},
          "execution_count": 81
        }
      ]
    },
    {
      "cell_type": "code",
      "source": [
        "def update_product_details(product_details, sku, updated_details):\n",
        "    \"\"\"\n",
        "    Update the product details of an existing product with the provided details. Assumes that the SKU existence and the validity of the updated details have been validated beforehand.\n",
        "\n",
        "    Parameters:\n",
        "        product_details (dict): The dictionary containing product details.\n",
        "        sku (str): The SKU of the product to update.\n",
        "        updated_details (dict): The validated updated details for the product.\n",
        "\n",
        "    Returns:\n",
        "        dict: The updated product details.\n",
        "    \"\"\"\n",
        "    product_details[sku] = updated_details\n",
        "    return product_details\n"
      ],
      "metadata": {
        "id": "THTCDIbl9CiA"
      },
      "execution_count": null,
      "outputs": []
    },
    {
      "cell_type": "code",
      "source": [
        "product_details = update_product_details(product_details,\n",
        "                                         'ABC56KFJW93NJ',\n",
        "                                          {'availability': 'No',\n",
        "                                           'brand': 'Acer',\n",
        "                                           'model': 'Acer Aspire 3',\n",
        "                                           'price': 'INR 20,000.00',\n",
        "                                           'product_name': 'Laptop - Tab',\n",
        "                                           'specifications': 'New Processor'})\n",
        "product_details"
      ],
      "metadata": {
        "colab": {
          "base_uri": "https://localhost:8080/"
        },
        "id": "MxkSM_gy9Dsq",
        "outputId": "3ed424c4-86b5-4c95-f3e6-090f061b180d"
      },
      "execution_count": null,
      "outputs": [
        {
          "output_type": "execute_result",
          "data": {
            "text/plain": [
              "{'AISJDKFJW93NJ': {'product_name': 'Wall Art Print',\n",
              "  'brand': 'ArtCraft',\n",
              "  'model': 'NatureCanvas-1001',\n",
              "  'specifications': 'Canvas print, Ready to hang',\n",
              "  'price': '$49.99',\n",
              "  'availability': 'In stock'},\n",
              " 'DJKFIEI432FIE': {'product_name': \"Men's Running Shoes\",\n",
              "  'brand': 'RunFit',\n",
              "  'model': 'SpeedX-500',\n",
              "  'specifications': 'Size 10, Lightweight design, Breathable material',\n",
              "  'price': '$79.99',\n",
              "  'availability': 'In stock'},\n",
              " 'GGOENEBJ079499': {'product_name': 'Smartphone',\n",
              "  'brand': 'XYZ Electronics',\n",
              "  'model': 'ABC-2000',\n",
              "  'specifications': '6.5-inch display, 128GB storage, 16MP camera',\n",
              "  'price': '$499.99',\n",
              "  'availability': 'In stock'},\n",
              " 'HJSKNWK429DJE': {'product_name': 'Wireless Earbuds',\n",
              "  'brand': 'SoundSync',\n",
              "  'model': 'TunePro-2022',\n",
              "  'specifications': 'Bluetooth 5.0, 20 hours battery life, Touch controls',\n",
              "  'price': '$89.99',\n",
              "  'availability': 'In stock'},\n",
              " 'JFKL3940NFKLJ': {'product_name': 'Resistance Bands Set',\n",
              "  'brand': 'FitFlex',\n",
              "  'model': 'StrengthPro-300',\n",
              "  'specifications': '5 bands, Varying resistance levels, Portable',\n",
              "  'price': '$34.99',\n",
              "  'availability': 'In stock'},\n",
              " 'LKDFJ49LSDJKL': {'product_name': 'Anti-Aging Face Cream',\n",
              "  'brand': 'GlowBeauty',\n",
              "  'model': 'AgeDefy-300',\n",
              "  'specifications': 'Natural ingredients, Hydrating formula',\n",
              "  'price': '$39.99',\n",
              "  'availability': 'In stock'},\n",
              " 'MWKDI3JFK39SL': {'product_name': 'Fictional Novel',\n",
              "  'brand': 'BestBooks',\n",
              "  'model': None,\n",
              "  'specifications': 'Paperback, 300 pages',\n",
              "  'price': '$14.99',\n",
              "  'availability': 'In stock'},\n",
              " 'NEKFJOWE9FDIW': {'product_name': 'Board Game',\n",
              "  'brand': 'FamilyFun',\n",
              "  'model': 'GameNight-2022',\n",
              "  'specifications': '2-6 players, Ages 8 and up',\n",
              "  'price': '$29.99',\n",
              "  'availability': 'In stock'},\n",
              " 'OWEJL398FWJLK': {'product_name': 'Yoga Mat',\n",
              "  'brand': 'ZenFitness',\n",
              "  'model': 'EcoMat-500',\n",
              "  'specifications': 'Non-slip, 6mm thickness, Eco-friendly material',\n",
              "  'price': '$19.99',\n",
              "  'availability': 'In stock'},\n",
              " 'XPLFJW2490XJN': {'product_name': 'Robot Vacuum Cleaner',\n",
              "  'brand': 'CleanTech',\n",
              "  'model': 'AutoSweep-9000',\n",
              "  'specifications': 'Smart navigation, HEPA filter, 90 minutes runtime',\n",
              "  'price': '$249.99',\n",
              "  'availability': 'In stock'},\n",
              " 'TYS56KFJW93NJ': {'product_name': 'Laptop',\n",
              "  'brand': 'Acer',\n",
              "  'model': 'Acer Aspire 3',\n",
              "  'specifications': 'Intel Core i3 N305 Laptop (Windows 11 Home/8 GB/512 GB SSD) A314-36M, 35.56 cm (14\") Full HD Display, 1.4 KG, Pure Silver',\n",
              "  'price': 'INR 32,999.00',\n",
              "  'availability': 'In stock'},\n",
              " 'ABC56KFJW93NJ': {'availability': 'No',\n",
              "  'brand': 'Acer',\n",
              "  'model': 'Acer Aspire 3',\n",
              "  'price': 'INR 20,000.00',\n",
              "  'product_name': 'Laptop - Tab',\n",
              "  'specifications': 'New Processor'}}"
            ]
          },
          "metadata": {},
          "execution_count": 83
        }
      ]
    },
    {
      "cell_type": "code",
      "source": [
        "def update_product_description(product_descriptions, sku, updated_description):\n",
        "    \"\"\"\n",
        "    Update the product description of an existing product with the provided description. Assumes that the SKU existence and the validity of the updated description have been validated beforehand.\n",
        "\n",
        "    Parameters:\n",
        "        product_descriptions (dict): The dictionary containing product descriptions.\n",
        "        sku (str): The SKU of the product to update.\n",
        "        updated_description (str): The validated updated description for the product.\n",
        "\n",
        "    Returns:\n",
        "        dict: The updated product descriptions.\n",
        "    \"\"\"\n",
        "    product_descriptions[sku] = updated_description\n",
        "    return product_descriptions\n"
      ],
      "metadata": {
        "id": "DwUvr0Ip90Ry"
      },
      "execution_count": null,
      "outputs": []
    },
    {
      "cell_type": "code",
      "source": [
        "product_descriptions = update_product_description(product_descriptions,\n",
        "                                                  'ABC56KFJW93NJ',\n",
        "                                                  'Very Good Graphics')\n",
        "product_descriptions"
      ],
      "metadata": {
        "colab": {
          "base_uri": "https://localhost:8080/"
        },
        "id": "hS2mU1Iw94_Z",
        "outputId": "0577123c-ff74-4015-94f7-202c53c2b656"
      },
      "execution_count": null,
      "outputs": [
        {
          "output_type": "execute_result",
          "data": {
            "text/plain": [
              "{'AISJDKFJW93NJ': \"Transform your living space with ArtCraft's NatureCanvas-1001 Wall Art Print.\\nThis canvas print, ready to hang, brings the beauty of nature into your home.\\nWith dimensions of 16 x 20 inches and a 4.6/5 stars rating, it's a stunning addition to your decor, creating a focal point that captures attention and sparks conversation.\",\n",
              " 'DJKFIEI432FIE': \"Elevate your running experience with the RunFit SpeedX-500 Men's Running Shoes.\\nDesigned for performance, these shoes feature a lightweight design, breathable material, and are available in vibrant Red, Blue, and classic Black.\\nWhether you're a seasoned runner or just starting, these shoes provide comfort and support for every stride, ensuring you reach new milestones effortlessly.\",\n",
              " 'GGOENEBJ079499': 'Dive into the future with the XYZ Electronics Smartphone, model ABC-2000.\\nBoasting a 6.5-inch display, 128GB storage, and a 16MP camera, this powerful device redefines the smartphone experience.\\nWith a sleek design and available in Black, Silver, and Blue, it combines cutting-edge technology with style, ensuring you stay connected in the most sophisticated way possible.',\n",
              " 'HJSKNWK429DJE': \"Immerse yourself in superior audio quality with SoundSync's TunePro-2022 Wireless Earbuds.\\nFeaturing Bluetooth 5.0, 20 hours of battery life, and touch controls, these earbuds deliver a seamless and immersive listening experience.\\nAvailable in Black and White, they combine style with functionality for music lovers on the go. \\nWith a 4.7/5 stars rating, they stand out as a top choice in the realm of wireless audio.\",\n",
              " 'JFKL3940NFKLJ': \"Embrace versatility in your workouts with FitFlex's StrengthPro-300 Resistance Bands Set.\\nWith 5 bands offering varying resistance levels and portability, this set is your go-to for effective strength training.\\nAvailable in Red, Yellow, and Blue, it caters to different fitness levels and adds a dynamic dimension to your exercise routine.\",\n",
              " 'LKDFJ49LSDJKL': \"Rediscover youthful radiance with GlowBeauty's AgeDefy-300 Anti-Aging Face Cream.\\nFormulated with natural ingredients and a hydrating formula, this skincare essential rejuvenates and nourishes your skin, leaving you with a vibrant and refreshed complexion.\\nWith a stellar 4.7/5 stars rating, it's a must-have for those embracing the journey to ageless beauty.\",\n",
              " 'MWKDI3JFK39SL': \"Immerse yourself in the world of storytelling with BestBooks' Fictional Novel.\\nThis paperback, spanning 300 pages, promises a captivating journey through the pages of an engaging narrative.\\nIdeal for avid readers seeking an escape, this novel, with a 4.6/5 stars rating, is a testament to its ability to weave a compelling tale that keeps you hooked until the last page.\",\n",
              " 'NEKFJOWE9FDIW': \"Unleash the fun with FamilyFun's GameNight-2022 Board Game.\\nDesigned for 2-6 players and suitable for ages 8 and up, this exciting game promises laughter and bonding moments for the entire family.\\nWith a 4.4/5 stars rating, it's a testament to its ability to turn any ordinary night into an extraordinary game night filled with friendly competition and shared joy.\",\n",
              " 'OWEJL398FWJLK': \"Elevate your yoga practice with ZenFitness' EcoMat-500 Yoga Mat.\\nFeaturing a non-slip surface, 6mm thickness, and eco-friendly materials, this high-quality mat provides the perfect foundation for your workouts.\\nAvailable in Purple, Green, and Blue, it not only enhances your comfort but also adds a touch of serenity to your exercise routine.\",\n",
              " 'XPLFJW2490XJN': 'Introducing the CleanTech AutoSweep-9000 Robot Vacuum Cleaner – your smart companion for automated cleaning.\\nWith smart navigation, a HEPA filter, and a runtime of 90 minutes, this efficient device takes care of your cleaning needs.\\nAvailable in White and Silver, it blends seamlessly into your home, making cleanliness a hassle-free experience.',\n",
              " 'TYS56KFJW93NJ': 'The Aspire 3 is ready to go with the latest Intel® Core™ i3 N-Series Processors1 with UHD Graphics—ideal for the entire family, with performance and productivity at the core. Perfect to get more out of work, study, or play.',\n",
              " 'ABC56KFJW93NJ': 'Very Good Graphics'}"
            ]
          },
          "metadata": {},
          "execution_count": 85
        }
      ]
    },
    {
      "cell_type": "code",
      "source": [
        "def update(product_details, sales_data, product_descriptions):\n",
        "    \"\"\"\n",
        "    Updates product information including sales data, product details, and product descriptions for a specified SKU.\n",
        "    Prompts the user for the SKU and the type of data they wish to update. Validates the existence of the SKU and the\n",
        "    integrity of the input data before making any updates. Offers a menu-driven interface for the user to select which\n",
        "    data to update and inputs the new values accordingly.\n",
        "\n",
        "    Parameters:\n",
        "        product_details (dict): A dictionary containing existing product details, with SKU as keys.\n",
        "        sales_data (dict): A dictionary containing sales data, with SKU as keys and sales quantities as values.\n",
        "        product_descriptions (dict): A dictionary containing product descriptions, with SKU as keys.\n",
        "\n",
        "    Returns:\n",
        "        tuple: A tuple containing the updated dictionaries (product_details, sales_data, product_descriptions) in that order.\n",
        "\n",
        "    Usage:\n",
        "        The function should be called with the current states of the product_details, sales_data, and product_descriptions\n",
        "        dictionaries. It will return their updated states after the user has made their changes. The function supports updating\n",
        "        sales data with new quantities for all 14 days, modifying product details like name, brand, model, specifications, price,\n",
        "        and availability, and altering the product description. It ensures data integrity by validating the existence of the SKU\n",
        "        and the correctness of the updated values before applying any changes.\n",
        "    \"\"\"\n",
        "    sku = input('Enter the product SKU to update: ')\n",
        "\n",
        "    # Validate SKU existence\n",
        "    if sku not in product_details:\n",
        "        print(f\"Product SKU '{sku}' not found.\")\n",
        "        return product_details, sales_data, product_descriptions\n",
        "\n",
        "    while True:\n",
        "        print('Select the data you want to update:')\n",
        "        print('1. Sales data')\n",
        "        print('2. Product details')\n",
        "        print('3. Product description')\n",
        "        print('4. Exit')\n",
        "\n",
        "        choice = input('Enter your choice (1-4): ')\n",
        "\n",
        "        if choice == '1':\n",
        "            # Validate and input sales data\n",
        "            quantities = input('Enter updated quantities for all days (space-separated): ').split()\n",
        "            if len(quantities) != 14:\n",
        "                print('Please enter quantities for all 14 days.')\n",
        "                continue\n",
        "            quantities = [int(qty) for qty in quantities]\n",
        "            update_sales_data(sales_data, sku, quantities)\n",
        "            print('The sales data is updated successfully!')\n",
        "        elif choice == '2':\n",
        "            # Validate and input product details\n",
        "            updated_product_details = {}\n",
        "            updated_product_details['product_name'] = input('Enter the updated product name: ')\n",
        "            updated_product_details['brand'] = input('Enter the updated brand: ')\n",
        "            updated_product_details['model'] = input('Enter the updated model: ')\n",
        "            updated_product_details['specifications'] = input('Enter the updated specifications: ')\n",
        "            updated_product_details['price'] = input('Enter the updated price: ')\n",
        "            updated_product_details['availability'] = input('Enter the updated availability: ')\n",
        "            update_product_details(product_details, sku, updated_product_details)\n",
        "            print('The product details are updated successfully!')\n",
        "        elif choice == '3':\n",
        "            # Validate and input product description\n",
        "            updated_description = input('Enter the updated product description: ')\n",
        "            update_product_description(product_descriptions, sku, updated_description)\n",
        "            print('The product description is updated successfully!')\n",
        "        elif choice == '4':\n",
        "            print('Exiting...')\n",
        "            break\n",
        "        else:\n",
        "            print('Invalid choice. Please enter a number between 1 and 4.')\n",
        "\n",
        "    return product_details, sales_data, product_descriptions"
      ],
      "metadata": {
        "id": "7nKsjUlF-uIu"
      },
      "execution_count": null,
      "outputs": []
    },
    {
      "cell_type": "code",
      "source": [
        "product_details, sales_data, product_descriptions = update(product_details, sales_data, product_descriptions)"
      ],
      "metadata": {
        "colab": {
          "base_uri": "https://localhost:8080/"
        },
        "id": "-1Rqvgwx-z0R",
        "outputId": "89b89ecb-6026-4999-b1ee-ee43f7df7eb7"
      },
      "execution_count": null,
      "outputs": [
        {
          "output_type": "stream",
          "name": "stdout",
          "text": [
            "Enter the product SKU to update: ABC56KFJW93NJ\n",
            "Select the data you want to update:\n",
            "1. Sales data\n",
            "2. Product details\n",
            "3. Product description\n",
            "4. Exit\n",
            "Enter your choice (1-4): ABC'\n",
            "Invalid choice. Please enter a number between 1 and 4.\n",
            "Select the data you want to update:\n",
            "1. Sales data\n",
            "2. Product details\n",
            "3. Product description\n",
            "4. Exit\n",
            "Enter your choice (1-4): 2\n",
            "Enter the updated product name: Televsion\n",
            "Enter the updated brand: Sony\n",
            "Enter the updated model: Lateral\n",
            "Enter the updated specifications: High Quality Resolution\n",
            "Enter the updated price: $50000.00\n",
            "Enter the updated availability: Very Limited Stock\n",
            "The product details are updated successfully!\n",
            "Select the data you want to update:\n",
            "1. Sales data\n",
            "2. Product details\n",
            "3. Product description\n",
            "4. Exit\n",
            "Enter your choice (1-4): 4\n",
            "Exiting...\n"
          ]
        }
      ]
    },
    {
      "cell_type": "code",
      "source": [
        "def delete(sales_data, product_details, product_descriptions, main_folder):\n",
        "    \"\"\"\n",
        "    Delete entries for a given SKU from sales data, product details, and product descriptions.\n",
        "    Delete corresponding JSON and text files.\n",
        "\n",
        "    Parameters:\n",
        "        sales_data (dict): The dictionary containing sales data.\n",
        "        product_details (dict): The dictionary containing product details.\n",
        "        product_descriptions (dict): The dictionary containing product descriptions.\n",
        "        main_folder (str): The location of the main folder containing product_details and product_descriptions folders.\n",
        "\n",
        "    Returns:\n",
        "        Tuple: The updated sales data, product details, and product descriptions dictionaries.\n",
        "    \"\"\"\n",
        "    sku = input('Enter the product SKU to delete: ')\n",
        "\n",
        "    # Validate SKU existence\n",
        "    if sku not in sales_data:\n",
        "        print(f\"Product SKU '{sku}' not found.\")\n",
        "        return sales_data, product_details, product_descriptions\n",
        "\n",
        "    # Delete entries from dictionaries\n",
        "    del sales_data[sku]\n",
        "    del product_details[sku]\n",
        "    del product_descriptions[sku]\n",
        "    print(\"Enteries for SKU {sku} deleted successfully!\")\n",
        "\n",
        "    # Delete corresponding JSON and text fikes\n",
        "    json_file_path = os.path.join(main_folder, 'product_details', f'{sku}.json')\n",
        "    txt_file_path = os.path.join(main_folder, 'product_descriptions', f'{sku}.txt')\n",
        "\n",
        "    if os.path.exists(json_file_path):\n",
        "        os.remove(json_file_path)\n",
        "        print(f\"JSON file for SKU {sku} deleted successfully!\")\n",
        "    else:\n",
        "        print(f\"JSON file for SKU {sku} not found.\")\n",
        "\n",
        "    if os.path.exists(txt_file_path):\n",
        "        os.remove(txt_file_path)\n",
        "        print(f\"TXT file for SKU {sku} deleted successfully!\")\n",
        "    else:\n",
        "        print(f\"TXT file for SKU {sku} not found.\")\n",
        "\n",
        "    return sales_data, product_details, product_descriptions"
      ],
      "metadata": {
        "id": "Rnluk0Xk_znb"
      },
      "execution_count": null,
      "outputs": []
    },
    {
      "cell_type": "code",
      "source": [
        "sales_data, product_details, product_descriptions = delete(sales_data, product_details, product_descriptions, main_folder_address)"
      ],
      "metadata": {
        "colab": {
          "base_uri": "https://localhost:8080/"
        },
        "id": "PFZuSW4K_0U5",
        "outputId": "33c25547-367c-476a-e368-1adc983fab91"
      },
      "execution_count": null,
      "outputs": [
        {
          "output_type": "stream",
          "name": "stdout",
          "text": [
            "Enter the product SKU to delete: ABC56KFJW93NJ\n",
            "Enteries for SKU {sku} deleted successfully!\n",
            "JSON file for SKU ABC56KFJW93NJ not found.\n",
            "TXT file for SKU ABC56KFJW93NJ not found.\n"
          ]
        }
      ]
    },
    {
      "cell_type": "code",
      "source": [
        "def dump_data(sales_data, product_details, product_descriptions, main_folder):\n",
        "    \"\"\"\n",
        "    Dump product details, sales data, and product descriptions to files.\n",
        "\n",
        "    Parameters:\n",
        "        sales_data (dict): The dictionary containing sales data.\n",
        "        product_details (dict): The dictionary containing product details.\n",
        "        product_descriptions (dict): The dictionary containing product descriptions.\n",
        "        main_folder (str): The location of the main folder containing product_details and product_descriptions folders.\n",
        "    \"\"\"\n",
        "    # Dump sales data to CSV file\n",
        "    csv_file_path = os.path.join(main_folder, 'sales_data.csv')\n",
        "    with open(csv_file_path, 'w') as csv_file:\n",
        "        fieldnames = ['Product_SKU', *map(str, range(1, 15))]  # Field names for SKU and 14 days\n",
        "        csv_writer = csv.DictWriter(csv_file, fieldnames=fieldnames)\n",
        "        csv_writer.writeheader()\n",
        "        for sku, quantities in sales_data.items():\n",
        "            row = {'Product_SKU': sku}\n",
        "            for i, q in enumerate(quantities, start=1):\n",
        "                row[str(i)] = q\n",
        "            csv_writer.writerow(row)\n",
        "\n",
        "    # Dump product details to JSON files\n",
        "    details_dir = os.path.join(main_folder, 'product_details')\n",
        "    if not os.path.exists(details_dir):\n",
        "        os.makedirs(details_dir)\n",
        "    for sku, details in product_details.items():\n",
        "        json_file_path = os.path.join(details_dir, f'{sku}.json')\n",
        "        with open(json_file_path, 'w') as json_file:\n",
        "            json.dump(details, json_file)\n",
        "\n",
        "    # Dump product descriptions to TXT files\n",
        "    description_dir = os.path.join(main_folder, 'product_descriptions')\n",
        "    if not os.path.exists(description_dir):\n",
        "        os.makedirs(description_dir)\n",
        "    for sku, description in product_descriptions.items():\n",
        "        txt_file_path = os.path.join(description_dir, f'{sku}.txt')\n",
        "        with open(txt_file_path, 'w') as txt_file:\n",
        "            txt_file.write(description)"
      ],
      "metadata": {
        "id": "ahYzkCP4Cz8N"
      },
      "execution_count": null,
      "outputs": []
    },
    {
      "cell_type": "code",
      "source": [
        "dump_data(sales_data, product_details, product_descriptions, main_folder_address)"
      ],
      "metadata": {
        "id": "-nt7ww9lC1ZI"
      },
      "execution_count": null,
      "outputs": []
    },
    {
      "cell_type": "code",
      "source": [
        "def user_menu(main_folder):\n",
        "    \"\"\"\n",
        "    Main menu to manage product data including create, read, update, and delete operations.\n",
        "    \"\"\"\n",
        "\n",
        "    # Load data from mainfolder.zip\n",
        "    product_details, sales_data, product_descriptions = load_data(main_folder)\n",
        "\n",
        "    while True:\n",
        "        print('\\nMain Menu:')\n",
        "        print('1. Create')\n",
        "        print('2. Read')\n",
        "        print('3. Update')\n",
        "        print('4. Delete')\n",
        "        print('5. Exit')\n",
        "\n",
        "        choice = input('Enter your choice (1-5): ')\n",
        "\n",
        "        if choice == '1':\n",
        "            product_details, sales_data, product_descriptions = create(product_details, sales_data, product_descriptions)\n",
        "            dump_data(sales_data, product_details, product_descriptions, 'mainfolder')\n",
        "        elif choice == '2':\n",
        "            read(product_details, sales_data, product_descriptions)\n",
        "        elif choice == '3':\n",
        "            product_details, sales_data, product_descriptions = update(product_details, sales_data, product_descriptions)\n",
        "            dump_data(sales_data, product_details, product_descriptions, 'mainfolder')\n",
        "        elif choice == '4':\n",
        "            product_details, sales_data, product_descriptions = delete(product_details, sales_data, product_descriptions, \"mainfolder\")\n",
        "            dump_data(sales_data, product_details, product_descriptions, 'mainfolder')\n",
        "        elif choice == '5':\n",
        "            # Dump data to files and exit\n",
        "            dump_data(sales_data, product_details, product_descriptions, 'mainfolder')\n",
        "            print('Exiting...')\n",
        "            break\n",
        "        else:\n",
        "            print('Invalid choice. Please enter a number between 1 and 5.')"
      ],
      "metadata": {
        "id": "MWXpGGmOEFDq"
      },
      "execution_count": null,
      "outputs": []
    },
    {
      "cell_type": "code",
      "source": [
        "user_menu(main_folder_address)"
      ],
      "metadata": {
        "colab": {
          "base_uri": "https://localhost:8080/"
        },
        "id": "_dMIvc-eFZNC",
        "outputId": "f02d21bf-665e-4afa-a6f3-5190cc593446"
      },
      "execution_count": null,
      "outputs": [
        {
          "output_type": "stream",
          "name": "stdout",
          "text": [
            "\n",
            "Main Menu:\n",
            "1. Create\n",
            "2. Read\n",
            "3. Update\n",
            "4. Delete\n",
            "5. Exit\n",
            "Enter your choice (1-5): 2\n",
            "Enter the product SKU: ABC56KFJW93NJ\n",
            "Product sku not found in any of the dictionaries\n",
            "\n",
            "Main Menu:\n",
            "1. Create\n",
            "2. Read\n",
            "3. Update\n",
            "4. Delete\n",
            "5. Exit\n"
          ]
        }
      ]
    }
  ]
}